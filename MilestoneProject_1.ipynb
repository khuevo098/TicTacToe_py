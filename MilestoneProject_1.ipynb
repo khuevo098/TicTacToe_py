{
 "cells": [
  {
   "cell_type": "markdown",
   "metadata": {},
   "source": [
    "___\n",
    "\n",
    "<a href='https://www.udemy.com/user/joseportilla/'><img src='../Pierian_Data_Logo.png'/></a>\n",
    "___\n",
    "<center><em>Content Copyright by Pierian Data</em></center>"
   ]
  },
  {
   "cell_type": "markdown",
   "metadata": {},
   "source": [
    "# Milestone Project 1: Tic Tac Toe"
   ]
  },
  {
   "cell_type": "code",
   "execution_count": null,
   "metadata": {},
   "outputs": [],
   "source": [
    "#input position funtion\n",
    "def place_pos():\n",
    "    position=int(input('Input position to where place new marker: '))\n",
    "    while position not in range(1,10):\n",
    "        print('Position must be in range from 1 to 10!')\n",
    "        position=int(input('New valid position: '))\n",
    "    return position"
   ]
  },
  {
   "cell_type": "markdown",
   "metadata": {},
   "source": [
    "**Step 1: Write a function that can print out a board. Set up your board as a list, where each index 1-9 corresponds with a number on a number pad, so you get a 3 by 3 board representation.**"
   ]
  },
  {
   "cell_type": "code",
   "execution_count": null,
   "metadata": {},
   "outputs": [],
   "source": [
    "from IPython.display import clear_output\n",
    "\n",
    "def display_board(board):\n",
    "    print(board[1]+'|'+board[2]+'|'+board[3])\n",
    "    print(board[4]+'|'+board[5]+'|'+board[6])\n",
    "    print(board[7]+'|'+board[8]+'|'+board[9])"
   ]
  },
  {
   "cell_type": "markdown",
   "metadata": {},
   "source": [
    "**TEST Step 1:** run your function on a test version of the board list, and make adjustments as necessary"
   ]
  },
  {
   "cell_type": "markdown",
   "metadata": {},
   "source": [
    "**Step 2: Write a function that can take in a player input and assign their marker as 'X' or 'O'. Think about using *while* loops to continually ask until you get a correct answer.**"
   ]
  },
  {
   "cell_type": "code",
   "execution_count": null,
   "metadata": {},
   "outputs": [],
   "source": [
    "def player_input():\n",
    "    marker=input('Which one you choose X or O?: ')\n",
    "    while(marker not in ['X','O']):\n",
    "        marker=input('Invalid marker choice! Only X or O: ')\n",
    "    return marker"
   ]
  },
  {
   "cell_type": "markdown",
   "metadata": {},
   "source": [
    "**TEST Step 2:** run the function to make sure it returns the desired output"
   ]
  },
  {
   "cell_type": "markdown",
   "metadata": {},
   "source": [
    "**Step 3: Write a function that takes in the board list object, a marker ('X' or 'O'), and a desired position (number 1-9) and assigns it to the board.**"
   ]
  },
  {
   "cell_type": "code",
   "execution_count": null,
   "metadata": {},
   "outputs": [],
   "source": [
    "def place_marker(board,marker,pos):\n",
    "    board[pos]=marker"
   ]
  },
  {
   "cell_type": "markdown",
   "metadata": {},
   "source": [
    "**TEST Step 3:** run the place marker function using test parameters and display the modified board"
   ]
  },
  {
   "cell_type": "markdown",
   "metadata": {},
   "source": [
    "**Step 4: Write a function that takes in a board and a mark (X or O) and then checks to see if that mark has won. **"
   ]
  },
  {
   "cell_type": "code",
   "execution_count": null,
   "metadata": {},
   "outputs": [],
   "source": [
    "def win_check(board, mark):\n",
    "    if(board[1]==board[2]==board[3]==mark):\n",
    "        return True\n",
    "    if(board[4]==board[5]==board[6]==mark):\n",
    "        return True\n",
    "    if(board[7]==board[8]==board[9]==mark):\n",
    "        return True\n",
    "    for i in range(1,4):\n",
    "        if(board[i]==board[i+3]==board[i+6]==mark):\n",
    "            return True\n",
    "    if(board[1]==board[5]==board[9]==mark):\n",
    "        return True\n",
    "    if(board[3]==board[5]==board[7]==mark):\n",
    "        return True\n",
    "    return False"
   ]
  },
  {
   "cell_type": "markdown",
   "metadata": {},
   "source": [
    "**TEST Step 4:** run the win_check function against our test_board - it should return True"
   ]
  },
  {
   "cell_type": "markdown",
   "metadata": {},
   "source": [
    "**Step 5: Write a function that uses the random module to randomly decide which player goes first. You may want to lookup random.randint() Return a string of which player went first.**"
   ]
  },
  {
   "cell_type": "code",
   "execution_count": null,
   "metadata": {},
   "outputs": [],
   "source": [
    "import random\n",
    "\n",
    "def choose_first():\n",
    "    who_first=random.randint(1,2)\n",
    "    if(who_first==1):\n",
    "        print('Player 1 go first!')\n",
    "    else:\n",
    "        print('Player 2 go first!')\n",
    "    return who_first"
   ]
  },
  {
   "cell_type": "markdown",
   "metadata": {},
   "source": [
    "**Step 6: Write a function that returns a boolean indicating whether a space on the board is freely available.**"
   ]
  },
  {
   "cell_type": "code",
   "execution_count": null,
   "metadata": {},
   "outputs": [],
   "source": [
    "def space_check(board, position):\n",
    "    if(board[position] == 'X' or board[position] == 'O'):\n",
    "        return False\n",
    "    return True"
   ]
  },
  {
   "cell_type": "markdown",
   "metadata": {},
   "source": [
    "**Step 7: Write a function that checks if the board is full and returns a boolean value. True if full, False otherwise.**"
   ]
  },
  {
   "cell_type": "code",
   "execution_count": null,
   "metadata": {},
   "outputs": [],
   "source": [
    "def full_board_check(board):\n",
    "    for i in range(1,10):\n",
    "        isEmpty=space_check(board,i)\n",
    "        if(isEmpty==True):\n",
    "            return False\n",
    "    return True"
   ]
  },
  {
   "cell_type": "markdown",
   "metadata": {},
   "source": [
    "**Step 8: Write a function that asks for a player's next position (as a number 1-9) and then uses the function from step 6 to check if it's a free position. If it is, then return the position for later use.**"
   ]
  },
  {
   "cell_type": "code",
   "execution_count": null,
   "metadata": {},
   "outputs": [],
   "source": [
    "def player_choice(board):\n",
    "    pos=place_pos()\n",
    "    check=space_check(board,pos)\n",
    "    if(check==False):\n",
    "        print('The current position is occupied!')\n",
    "        pos=place_pos()\n",
    "    return pos"
   ]
  },
  {
   "cell_type": "markdown",
   "metadata": {},
   "source": [
    "**Step 9: Write a function that asks the player if they want to play again and returns a boolean True if they do want to play again.**"
   ]
  },
  {
   "cell_type": "code",
   "execution_count": null,
   "metadata": {},
   "outputs": [],
   "source": [
    "def replay():\n",
    "    choice=input('Do you want to replay? Type Y for Yes or N for No: ')\n",
    "    while(choice not in ['Y','N']):\n",
    "        choice=input('Invalid choice! Only Y or N: ')\n",
    "    if(choice=='N'):\n",
    "        return False\n",
    "    return True"
   ]
  },
  {
   "cell_type": "markdown",
   "metadata": {
    "collapsed": true
   },
   "source": [
    "**Step 10: Here comes the hard part! Use while loops and the functions you've made to run the game!**"
   ]
  },
  {
   "cell_type": "code",
   "execution_count": null,
   "metadata": {},
   "outputs": [],
   "source": [
    "def player_turn(board,marker,marker_No):\n",
    "    key=list(marker_No.keys())\n",
    "    value=list(marker_No.values())\n",
    "    pos=player_choice(board)\n",
    "    place_marker(board,marker,pos)\n",
    "    display_board(board)\n",
    "    print(\"\\n\")\n",
    "    if(win_check(board, marker) and marker==value[0] and key[0]=='1'):\n",
    "        print('Player 1 win!')\n",
    "        return False\n",
    "    if(win_check(board, marker) and marker==value[0] and key[0]=='2'):\n",
    "        print('Player 2 win!')\n",
    "        return False\n",
    "    if(full_board_check(board)):\n",
    "        print('Board is full! Drawwwww.')\n",
    "        return False\n",
    "    return True"
   ]
  },
  {
   "cell_type": "code",
   "execution_count": null,
   "metadata": {},
   "outputs": [],
   "source": []
  },
  {
   "cell_type": "code",
   "execution_count": null,
   "metadata": {},
   "outputs": [],
   "source": [
    "#main\n",
    "print('Welcome to Tic Tac Toe!')\n",
    "while True:\n",
    "    #Initiate the board\n",
    "    board = ['#',' ',' ',' ',' ',' ',' ',' ',' ',' ']\n",
    "    display_board(board)\n",
    "    # Set the game up here\n",
    "    who_first=choose_first()\n",
    "    player1=''\n",
    "    player2=''\n",
    "    if(who_first==1):\n",
    "        player1=player_input()\n",
    "        if(player1=='X'):\n",
    "            player2='O'\n",
    "        else:\n",
    "            player2='X'\n",
    "    else:\n",
    "        player2=player_input()\n",
    "        if(player2=='X'):\n",
    "            player1='O'\n",
    "        else:\n",
    "            player1='X'\n",
    "    marker_No1={\"1\":player1}\n",
    "    marker_No2={\"2\":player2}\n",
    "    game_on=True\n",
    "    if(who_first==1):\n",
    "         while game_on:\n",
    "            print('|Player 1''s Turn|')\n",
    "            game_on=player_turn(board,player1,marker_No1)\n",
    "            \n",
    "            if(game_on==False):\n",
    "                break\n",
    "            \n",
    "            print('|Player 2''s Turn|')\n",
    "            game_on=player_turn(board,player2,marker_No2)\n",
    "    else:\n",
    "         while game_on:\n",
    "            print('|Player 2''s Turn|')\n",
    "            game_on=player_turn(board,player2,marker_No2)\n",
    "    \n",
    "            if(game_on==False):\n",
    "                break\n",
    "    \n",
    "            print('|Player 1''s Turn|')\n",
    "            game_on=player_turn(board,player1,marker_No1)\n",
    "    if not replay():\n",
    "        break"
   ]
  }
 ],
 "metadata": {
  "kernelspec": {
   "display_name": "Python 3 (ipykernel)",
   "language": "python",
   "name": "python3"
  },
  "language_info": {
   "codemirror_mode": {
    "name": "ipython",
    "version": 3
   },
   "file_extension": ".py",
   "mimetype": "text/x-python",
   "name": "python",
   "nbconvert_exporter": "python",
   "pygments_lexer": "ipython3",
   "version": "3.11.3"
  }
 },
 "nbformat": 4,
 "nbformat_minor": 1
}
